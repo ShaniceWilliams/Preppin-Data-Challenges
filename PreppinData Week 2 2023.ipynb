{
 "cells": [
  {
   "cell_type": "markdown",
   "source": [
    "## Imports"
   ],
   "metadata": {
    "collapsed": false
   }
  },
  {
   "cell_type": "code",
   "execution_count": 29,
   "metadata": {
    "collapsed": true
   },
   "outputs": [],
   "source": [
    "import pandas as pd\n",
    "import numpy as np"
   ]
  },
  {
   "cell_type": "markdown",
   "source": [
    "## Reading in transaction data"
   ],
   "metadata": {
    "collapsed": false
   }
  },
  {
   "cell_type": "code",
   "execution_count": 30,
   "outputs": [],
   "source": [
    "transactions = pd.read_csv(\"C:\\\\Users\\\\shani\\\\PycharmProjects\\\\preppindata\\\\Transactions.csv\")"
   ],
   "metadata": {
    "collapsed": false
   }
  },
  {
   "cell_type": "code",
   "execution_count": 31,
   "outputs": [
    {
     "data": {
      "text/plain": "   Transaction ID  Account Number Sort Code              Bank\n0            3888        62230725  95-98-82  Data Source Bank\n1            4746        83172326  42-86-38     Barclays Bank\n2            5404        34302539  53-28-21     Barclays Bank\n3            9013        13350031  93-87-71           Natwest\n4            2535        68745993  57-14-32     Barclays Bank",
      "text/html": "<div>\n<style scoped>\n    .dataframe tbody tr th:only-of-type {\n        vertical-align: middle;\n    }\n\n    .dataframe tbody tr th {\n        vertical-align: top;\n    }\n\n    .dataframe thead th {\n        text-align: right;\n    }\n</style>\n<table border=\"1\" class=\"dataframe\">\n  <thead>\n    <tr style=\"text-align: right;\">\n      <th></th>\n      <th>Transaction ID</th>\n      <th>Account Number</th>\n      <th>Sort Code</th>\n      <th>Bank</th>\n    </tr>\n  </thead>\n  <tbody>\n    <tr>\n      <th>0</th>\n      <td>3888</td>\n      <td>62230725</td>\n      <td>95-98-82</td>\n      <td>Data Source Bank</td>\n    </tr>\n    <tr>\n      <th>1</th>\n      <td>4746</td>\n      <td>83172326</td>\n      <td>42-86-38</td>\n      <td>Barclays Bank</td>\n    </tr>\n    <tr>\n      <th>2</th>\n      <td>5404</td>\n      <td>34302539</td>\n      <td>53-28-21</td>\n      <td>Barclays Bank</td>\n    </tr>\n    <tr>\n      <th>3</th>\n      <td>9013</td>\n      <td>13350031</td>\n      <td>93-87-71</td>\n      <td>Natwest</td>\n    </tr>\n    <tr>\n      <th>4</th>\n      <td>2535</td>\n      <td>68745993</td>\n      <td>57-14-32</td>\n      <td>Barclays Bank</td>\n    </tr>\n  </tbody>\n</table>\n</div>"
     },
     "execution_count": 31,
     "metadata": {},
     "output_type": "execute_result"
    }
   ],
   "source": [
    "transactions.head()"
   ],
   "metadata": {
    "collapsed": false
   }
  },
  {
   "cell_type": "markdown",
   "source": [
    "## Removing dashes from sort codes\n",
    "\n",
    "Within pandas data frames we can still use string methods. In this instance I used the replace method to replace the - with nothing."
   ],
   "metadata": {
    "collapsed": false
   }
  },
  {
   "cell_type": "code",
   "execution_count": 32,
   "outputs": [
    {
     "data": {
      "text/plain": "   Transaction ID  Account Number Sort Code              Bank\n0            3888        62230725    959882  Data Source Bank\n1            4746        83172326    428638     Barclays Bank\n2            5404        34302539    532821     Barclays Bank\n3            9013        13350031    938771           Natwest\n4            2535        68745993    571432     Barclays Bank",
      "text/html": "<div>\n<style scoped>\n    .dataframe tbody tr th:only-of-type {\n        vertical-align: middle;\n    }\n\n    .dataframe tbody tr th {\n        vertical-align: top;\n    }\n\n    .dataframe thead th {\n        text-align: right;\n    }\n</style>\n<table border=\"1\" class=\"dataframe\">\n  <thead>\n    <tr style=\"text-align: right;\">\n      <th></th>\n      <th>Transaction ID</th>\n      <th>Account Number</th>\n      <th>Sort Code</th>\n      <th>Bank</th>\n    </tr>\n  </thead>\n  <tbody>\n    <tr>\n      <th>0</th>\n      <td>3888</td>\n      <td>62230725</td>\n      <td>959882</td>\n      <td>Data Source Bank</td>\n    </tr>\n    <tr>\n      <th>1</th>\n      <td>4746</td>\n      <td>83172326</td>\n      <td>428638</td>\n      <td>Barclays Bank</td>\n    </tr>\n    <tr>\n      <th>2</th>\n      <td>5404</td>\n      <td>34302539</td>\n      <td>532821</td>\n      <td>Barclays Bank</td>\n    </tr>\n    <tr>\n      <th>3</th>\n      <td>9013</td>\n      <td>13350031</td>\n      <td>938771</td>\n      <td>Natwest</td>\n    </tr>\n    <tr>\n      <th>4</th>\n      <td>2535</td>\n      <td>68745993</td>\n      <td>571432</td>\n      <td>Barclays Bank</td>\n    </tr>\n  </tbody>\n</table>\n</div>"
     },
     "execution_count": 32,
     "metadata": {},
     "output_type": "execute_result"
    }
   ],
   "source": [
    "transactions[\"Sort Code\"] = transactions[\"Sort Code\"].str.replace(\"-\", \"\")\n",
    "transactions.head()"
   ],
   "metadata": {
    "collapsed": false
   }
  },
  {
   "cell_type": "markdown",
   "source": [
    "## Combining swift code and transaction data\n",
    "\n",
    "We can use the pd.merge method to merge the two datasets together. This mege is based on the column which is shared which in this case is the Bank column."
   ],
   "metadata": {
    "collapsed": false
   }
  },
  {
   "cell_type": "code",
   "execution_count": 33,
   "outputs": [],
   "source": [
    "swift = pd.read_csv(\"C:\\\\Users\\\\shani\\\\PycharmProjects\\\\preppindata\\\\Swift Codes.csv\")"
   ],
   "metadata": {
    "collapsed": false
   }
  },
  {
   "cell_type": "code",
   "execution_count": 34,
   "outputs": [],
   "source": [
    "df = pd.merge(transactions, swift)"
   ],
   "metadata": {
    "collapsed": false
   }
  },
  {
   "cell_type": "code",
   "execution_count": 35,
   "outputs": [
    {
     "data": {
      "text/plain": "    Transaction ID  Account Number Sort Code              Bank SWIFT code  \\\n0             3888        62230725    959882  Data Source Bank       DSBX   \n1             7086        56630552    597744  Data Source Bank       DSBX   \n2             1314        71210735    618579  Data Source Bank       DSBX   \n3             1493        12193988    865442  Data Source Bank       DSBX   \n4             1952        53786334    212754  Data Source Bank       DSBX   \n..             ...             ...       ...               ...        ...   \n95            6054        47199472    968854       Lloyds Bank       LOYD   \n96            5773        82021377    438613       Lloyds Bank       LOYD   \n97            7485        63007765    634617       Lloyds Bank       LOYD   \n98            8813        83475180    635891       Lloyds Bank       LOYD   \n99            2021        72261023    591751       Lloyds Bank       LOYD   \n\n   Check Digits  \n0            12  \n1            12  \n2            12  \n3            12  \n4            12  \n..          ...  \n95           C1  \n96           C1  \n97           C1  \n98           C1  \n99           C1  \n\n[100 rows x 6 columns]",
      "text/html": "<div>\n<style scoped>\n    .dataframe tbody tr th:only-of-type {\n        vertical-align: middle;\n    }\n\n    .dataframe tbody tr th {\n        vertical-align: top;\n    }\n\n    .dataframe thead th {\n        text-align: right;\n    }\n</style>\n<table border=\"1\" class=\"dataframe\">\n  <thead>\n    <tr style=\"text-align: right;\">\n      <th></th>\n      <th>Transaction ID</th>\n      <th>Account Number</th>\n      <th>Sort Code</th>\n      <th>Bank</th>\n      <th>SWIFT code</th>\n      <th>Check Digits</th>\n    </tr>\n  </thead>\n  <tbody>\n    <tr>\n      <th>0</th>\n      <td>3888</td>\n      <td>62230725</td>\n      <td>959882</td>\n      <td>Data Source Bank</td>\n      <td>DSBX</td>\n      <td>12</td>\n    </tr>\n    <tr>\n      <th>1</th>\n      <td>7086</td>\n      <td>56630552</td>\n      <td>597744</td>\n      <td>Data Source Bank</td>\n      <td>DSBX</td>\n      <td>12</td>\n    </tr>\n    <tr>\n      <th>2</th>\n      <td>1314</td>\n      <td>71210735</td>\n      <td>618579</td>\n      <td>Data Source Bank</td>\n      <td>DSBX</td>\n      <td>12</td>\n    </tr>\n    <tr>\n      <th>3</th>\n      <td>1493</td>\n      <td>12193988</td>\n      <td>865442</td>\n      <td>Data Source Bank</td>\n      <td>DSBX</td>\n      <td>12</td>\n    </tr>\n    <tr>\n      <th>4</th>\n      <td>1952</td>\n      <td>53786334</td>\n      <td>212754</td>\n      <td>Data Source Bank</td>\n      <td>DSBX</td>\n      <td>12</td>\n    </tr>\n    <tr>\n      <th>...</th>\n      <td>...</td>\n      <td>...</td>\n      <td>...</td>\n      <td>...</td>\n      <td>...</td>\n      <td>...</td>\n    </tr>\n    <tr>\n      <th>95</th>\n      <td>6054</td>\n      <td>47199472</td>\n      <td>968854</td>\n      <td>Lloyds Bank</td>\n      <td>LOYD</td>\n      <td>C1</td>\n    </tr>\n    <tr>\n      <th>96</th>\n      <td>5773</td>\n      <td>82021377</td>\n      <td>438613</td>\n      <td>Lloyds Bank</td>\n      <td>LOYD</td>\n      <td>C1</td>\n    </tr>\n    <tr>\n      <th>97</th>\n      <td>7485</td>\n      <td>63007765</td>\n      <td>634617</td>\n      <td>Lloyds Bank</td>\n      <td>LOYD</td>\n      <td>C1</td>\n    </tr>\n    <tr>\n      <th>98</th>\n      <td>8813</td>\n      <td>83475180</td>\n      <td>635891</td>\n      <td>Lloyds Bank</td>\n      <td>LOYD</td>\n      <td>C1</td>\n    </tr>\n    <tr>\n      <th>99</th>\n      <td>2021</td>\n      <td>72261023</td>\n      <td>591751</td>\n      <td>Lloyds Bank</td>\n      <td>LOYD</td>\n      <td>C1</td>\n    </tr>\n  </tbody>\n</table>\n<p>100 rows × 6 columns</p>\n</div>"
     },
     "execution_count": 35,
     "metadata": {},
     "output_type": "execute_result"
    }
   ],
   "source": [
    "df"
   ],
   "metadata": {
    "collapsed": false
   }
  },
  {
   "cell_type": "markdown",
   "source": [
    "## Adding Country Code Column"
   ],
   "metadata": {
    "collapsed": false
   }
  },
  {
   "cell_type": "code",
   "execution_count": 36,
   "outputs": [
    {
     "data": {
      "text/plain": "    Transaction ID  Account Number Sort Code              Bank SWIFT code  \\\n0             3888        62230725    959882  Data Source Bank       DSBX   \n1             7086        56630552    597744  Data Source Bank       DSBX   \n2             1314        71210735    618579  Data Source Bank       DSBX   \n3             1493        12193988    865442  Data Source Bank       DSBX   \n4             1952        53786334    212754  Data Source Bank       DSBX   \n..             ...             ...       ...               ...        ...   \n95            6054        47199472    968854       Lloyds Bank       LOYD   \n96            5773        82021377    438613       Lloyds Bank       LOYD   \n97            7485        63007765    634617       Lloyds Bank       LOYD   \n98            8813        83475180    635891       Lloyds Bank       LOYD   \n99            2021        72261023    591751       Lloyds Bank       LOYD   \n\n   Country Code Check Digits  \n0            GB           12  \n1            GB           12  \n2            GB           12  \n3            GB           12  \n4            GB           12  \n..          ...          ...  \n95           GB           C1  \n96           GB           C1  \n97           GB           C1  \n98           GB           C1  \n99           GB           C1  \n\n[100 rows x 7 columns]",
      "text/html": "<div>\n<style scoped>\n    .dataframe tbody tr th:only-of-type {\n        vertical-align: middle;\n    }\n\n    .dataframe tbody tr th {\n        vertical-align: top;\n    }\n\n    .dataframe thead th {\n        text-align: right;\n    }\n</style>\n<table border=\"1\" class=\"dataframe\">\n  <thead>\n    <tr style=\"text-align: right;\">\n      <th></th>\n      <th>Transaction ID</th>\n      <th>Account Number</th>\n      <th>Sort Code</th>\n      <th>Bank</th>\n      <th>SWIFT code</th>\n      <th>Country Code</th>\n      <th>Check Digits</th>\n    </tr>\n  </thead>\n  <tbody>\n    <tr>\n      <th>0</th>\n      <td>3888</td>\n      <td>62230725</td>\n      <td>959882</td>\n      <td>Data Source Bank</td>\n      <td>DSBX</td>\n      <td>GB</td>\n      <td>12</td>\n    </tr>\n    <tr>\n      <th>1</th>\n      <td>7086</td>\n      <td>56630552</td>\n      <td>597744</td>\n      <td>Data Source Bank</td>\n      <td>DSBX</td>\n      <td>GB</td>\n      <td>12</td>\n    </tr>\n    <tr>\n      <th>2</th>\n      <td>1314</td>\n      <td>71210735</td>\n      <td>618579</td>\n      <td>Data Source Bank</td>\n      <td>DSBX</td>\n      <td>GB</td>\n      <td>12</td>\n    </tr>\n    <tr>\n      <th>3</th>\n      <td>1493</td>\n      <td>12193988</td>\n      <td>865442</td>\n      <td>Data Source Bank</td>\n      <td>DSBX</td>\n      <td>GB</td>\n      <td>12</td>\n    </tr>\n    <tr>\n      <th>4</th>\n      <td>1952</td>\n      <td>53786334</td>\n      <td>212754</td>\n      <td>Data Source Bank</td>\n      <td>DSBX</td>\n      <td>GB</td>\n      <td>12</td>\n    </tr>\n    <tr>\n      <th>...</th>\n      <td>...</td>\n      <td>...</td>\n      <td>...</td>\n      <td>...</td>\n      <td>...</td>\n      <td>...</td>\n      <td>...</td>\n    </tr>\n    <tr>\n      <th>95</th>\n      <td>6054</td>\n      <td>47199472</td>\n      <td>968854</td>\n      <td>Lloyds Bank</td>\n      <td>LOYD</td>\n      <td>GB</td>\n      <td>C1</td>\n    </tr>\n    <tr>\n      <th>96</th>\n      <td>5773</td>\n      <td>82021377</td>\n      <td>438613</td>\n      <td>Lloyds Bank</td>\n      <td>LOYD</td>\n      <td>GB</td>\n      <td>C1</td>\n    </tr>\n    <tr>\n      <th>97</th>\n      <td>7485</td>\n      <td>63007765</td>\n      <td>634617</td>\n      <td>Lloyds Bank</td>\n      <td>LOYD</td>\n      <td>GB</td>\n      <td>C1</td>\n    </tr>\n    <tr>\n      <th>98</th>\n      <td>8813</td>\n      <td>83475180</td>\n      <td>635891</td>\n      <td>Lloyds Bank</td>\n      <td>LOYD</td>\n      <td>GB</td>\n      <td>C1</td>\n    </tr>\n    <tr>\n      <th>99</th>\n      <td>2021</td>\n      <td>72261023</td>\n      <td>591751</td>\n      <td>Lloyds Bank</td>\n      <td>LOYD</td>\n      <td>GB</td>\n      <td>C1</td>\n    </tr>\n  </tbody>\n</table>\n<p>100 rows × 7 columns</p>\n</div>"
     },
     "execution_count": 36,
     "metadata": {},
     "output_type": "execute_result"
    }
   ],
   "source": [
    "df.insert(5, \"Country Code\", \"GB\")\n",
    "df"
   ],
   "metadata": {
    "collapsed": false
   }
  },
  {
   "cell_type": "markdown",
   "source": [
    "## Creating the IBAN Number\n",
    "\n",
    "The IBAN number is made up of the Country code then check digits then bank code then sort code then account number.\n",
    "\n",
    "To be able to combine these columns we will first need to check the datatypes of them. If there are strings and numbers present then we will need to convert them all before we can concatenate."
   ],
   "metadata": {
    "collapsed": false
   }
  },
  {
   "cell_type": "code",
   "execution_count": 37,
   "outputs": [
    {
     "data": {
      "text/plain": "Transaction ID     int64\nAccount Number     int64\nSort Code         object\nBank              object\nSWIFT code        object\nCountry Code      object\nCheck Digits      object\ndtype: object"
     },
     "execution_count": 37,
     "metadata": {},
     "output_type": "execute_result"
    }
   ],
   "source": [
    "df.dtypes"
   ],
   "metadata": {
    "collapsed": false
   }
  },
  {
   "cell_type": "markdown",
   "source": [
    "We can see here that the account number will need to be converted before we can join the columns."
   ],
   "metadata": {
    "collapsed": false
   }
  },
  {
   "cell_type": "code",
   "execution_count": 38,
   "outputs": [
    {
     "data": {
      "text/plain": "Transaction ID    object\nAccount Number    object\nSort Code         object\nBank              object\nSWIFT code        object\nCountry Code      object\nCheck Digits      object\ndtype: object"
     },
     "execution_count": 38,
     "metadata": {},
     "output_type": "execute_result"
    }
   ],
   "source": [
    "df = df.astype('object')\n",
    "df.dtypes"
   ],
   "metadata": {
    "collapsed": false
   }
  },
  {
   "cell_type": "code",
   "execution_count": 39,
   "outputs": [
    {
     "ename": "TypeError",
     "evalue": "can only concatenate str (not \"int\") to str",
     "output_type": "error",
     "traceback": [
      "\u001B[1;31m---------------------------------------------------------------------------\u001B[0m",
      "\u001B[1;31mTypeError\u001B[0m                                 Traceback (most recent call last)",
      "File \u001B[1;32m~\\PycharmProjects\\preppindata\\venv\\Lib\\site-packages\\pandas\\core\\ops\\array_ops.py:171\u001B[0m, in \u001B[0;36m_na_arithmetic_op\u001B[1;34m(left, right, op, is_cmp)\u001B[0m\n\u001B[0;32m    170\u001B[0m \u001B[38;5;28;01mtry\u001B[39;00m:\n\u001B[1;32m--> 171\u001B[0m     result \u001B[38;5;241m=\u001B[39m \u001B[43mfunc\u001B[49m\u001B[43m(\u001B[49m\u001B[43mleft\u001B[49m\u001B[43m,\u001B[49m\u001B[43m \u001B[49m\u001B[43mright\u001B[49m\u001B[43m)\u001B[49m\n\u001B[0;32m    172\u001B[0m \u001B[38;5;28;01mexcept\u001B[39;00m \u001B[38;5;167;01mTypeError\u001B[39;00m:\n",
      "File \u001B[1;32m~\\PycharmProjects\\preppindata\\venv\\Lib\\site-packages\\pandas\\core\\computation\\expressions.py:239\u001B[0m, in \u001B[0;36mevaluate\u001B[1;34m(op, a, b, use_numexpr)\u001B[0m\n\u001B[0;32m    237\u001B[0m     \u001B[38;5;28;01mif\u001B[39;00m use_numexpr:\n\u001B[0;32m    238\u001B[0m         \u001B[38;5;66;03m# error: \"None\" not callable\u001B[39;00m\n\u001B[1;32m--> 239\u001B[0m         \u001B[38;5;28;01mreturn\u001B[39;00m \u001B[43m_evaluate\u001B[49m\u001B[43m(\u001B[49m\u001B[43mop\u001B[49m\u001B[43m,\u001B[49m\u001B[43m \u001B[49m\u001B[43mop_str\u001B[49m\u001B[43m,\u001B[49m\u001B[43m \u001B[49m\u001B[43ma\u001B[49m\u001B[43m,\u001B[49m\u001B[43m \u001B[49m\u001B[43mb\u001B[49m\u001B[43m)\u001B[49m  \u001B[38;5;66;03m# type: ignore[misc]\u001B[39;00m\n\u001B[0;32m    240\u001B[0m \u001B[38;5;28;01mreturn\u001B[39;00m _evaluate_standard(op, op_str, a, b)\n",
      "File \u001B[1;32m~\\PycharmProjects\\preppindata\\venv\\Lib\\site-packages\\pandas\\core\\computation\\expressions.py:70\u001B[0m, in \u001B[0;36m_evaluate_standard\u001B[1;34m(op, op_str, a, b)\u001B[0m\n\u001B[0;32m     69\u001B[0m     _store_test_result(\u001B[38;5;28;01mFalse\u001B[39;00m)\n\u001B[1;32m---> 70\u001B[0m \u001B[38;5;28;01mreturn\u001B[39;00m op(a, b)\n",
      "\u001B[1;31mTypeError\u001B[0m: can only concatenate str (not \"int\") to str",
      "\nDuring handling of the above exception, another exception occurred:\n",
      "\u001B[1;31mTypeError\u001B[0m                                 Traceback (most recent call last)",
      "Cell \u001B[1;32mIn[39], line 1\u001B[0m\n\u001B[1;32m----> 1\u001B[0m df[\u001B[38;5;124m'\u001B[39m\u001B[38;5;124mIBAN\u001B[39m\u001B[38;5;124m'\u001B[39m] \u001B[38;5;241m=\u001B[39m \u001B[43mdf\u001B[49m\u001B[43m[\u001B[49m\u001B[38;5;124;43m'\u001B[39;49m\u001B[38;5;124;43mCountry Code\u001B[39;49m\u001B[38;5;124;43m'\u001B[39;49m\u001B[43m]\u001B[49m\u001B[43m \u001B[49m\u001B[38;5;241;43m+\u001B[39;49m\u001B[43m \u001B[49m\u001B[43mdf\u001B[49m\u001B[43m[\u001B[49m\u001B[38;5;124;43m'\u001B[39;49m\u001B[38;5;124;43mCheck Digits\u001B[39;49m\u001B[38;5;124;43m'\u001B[39;49m\u001B[43m]\u001B[49m\u001B[43m \u001B[49m\u001B[38;5;241;43m+\u001B[39;49m\u001B[43m \u001B[49m\u001B[43mdf\u001B[49m\u001B[43m[\u001B[49m\u001B[38;5;124;43m'\u001B[39;49m\u001B[38;5;124;43mSWIFT code\u001B[39;49m\u001B[38;5;124;43m'\u001B[39;49m\u001B[43m]\u001B[49m\u001B[43m \u001B[49m\u001B[38;5;241;43m+\u001B[39;49m\u001B[43m \u001B[49m\u001B[43mdf\u001B[49m\u001B[43m[\u001B[49m\u001B[38;5;124;43m'\u001B[39;49m\u001B[38;5;124;43mSort Code\u001B[39;49m\u001B[38;5;124;43m'\u001B[39;49m\u001B[43m]\u001B[49m\u001B[43m \u001B[49m\u001B[38;5;241;43m+\u001B[39;49m\u001B[43m \u001B[49m\u001B[43mdf\u001B[49m\u001B[43m[\u001B[49m\u001B[38;5;124;43m'\u001B[39;49m\u001B[38;5;124;43mAccount Number\u001B[39;49m\u001B[38;5;124;43m'\u001B[39;49m\u001B[43m]\u001B[49m\n\u001B[0;32m      2\u001B[0m df\n",
      "File \u001B[1;32m~\\PycharmProjects\\preppindata\\venv\\Lib\\site-packages\\pandas\\core\\ops\\common.py:81\u001B[0m, in \u001B[0;36m_unpack_zerodim_and_defer.<locals>.new_method\u001B[1;34m(self, other)\u001B[0m\n\u001B[0;32m     77\u001B[0m             \u001B[38;5;28;01mreturn\u001B[39;00m \u001B[38;5;28mNotImplemented\u001B[39m\n\u001B[0;32m     79\u001B[0m other \u001B[38;5;241m=\u001B[39m item_from_zerodim(other)\n\u001B[1;32m---> 81\u001B[0m \u001B[38;5;28;01mreturn\u001B[39;00m \u001B[43mmethod\u001B[49m\u001B[43m(\u001B[49m\u001B[38;5;28;43mself\u001B[39;49m\u001B[43m,\u001B[49m\u001B[43m \u001B[49m\u001B[43mother\u001B[49m\u001B[43m)\u001B[49m\n",
      "File \u001B[1;32m~\\PycharmProjects\\preppindata\\venv\\Lib\\site-packages\\pandas\\core\\arraylike.py:186\u001B[0m, in \u001B[0;36mOpsMixin.__add__\u001B[1;34m(self, other)\u001B[0m\n\u001B[0;32m     98\u001B[0m \u001B[38;5;129m@unpack_zerodim_and_defer\u001B[39m(\u001B[38;5;124m\"\u001B[39m\u001B[38;5;124m__add__\u001B[39m\u001B[38;5;124m\"\u001B[39m)\n\u001B[0;32m     99\u001B[0m \u001B[38;5;28;01mdef\u001B[39;00m \u001B[38;5;21m__add__\u001B[39m(\u001B[38;5;28mself\u001B[39m, other):\n\u001B[0;32m    100\u001B[0m \u001B[38;5;250m    \u001B[39m\u001B[38;5;124;03m\"\"\"\u001B[39;00m\n\u001B[0;32m    101\u001B[0m \u001B[38;5;124;03m    Get Addition of DataFrame and other, column-wise.\u001B[39;00m\n\u001B[0;32m    102\u001B[0m \n\u001B[1;32m   (...)\u001B[0m\n\u001B[0;32m    184\u001B[0m \u001B[38;5;124;03m    moose     3.0     NaN\u001B[39;00m\n\u001B[0;32m    185\u001B[0m \u001B[38;5;124;03m    \"\"\"\u001B[39;00m\n\u001B[1;32m--> 186\u001B[0m     \u001B[38;5;28;01mreturn\u001B[39;00m \u001B[38;5;28;43mself\u001B[39;49m\u001B[38;5;241;43m.\u001B[39;49m\u001B[43m_arith_method\u001B[49m\u001B[43m(\u001B[49m\u001B[43mother\u001B[49m\u001B[43m,\u001B[49m\u001B[43m \u001B[49m\u001B[43moperator\u001B[49m\u001B[38;5;241;43m.\u001B[39;49m\u001B[43madd\u001B[49m\u001B[43m)\u001B[49m\n",
      "File \u001B[1;32m~\\PycharmProjects\\preppindata\\venv\\Lib\\site-packages\\pandas\\core\\series.py:6112\u001B[0m, in \u001B[0;36mSeries._arith_method\u001B[1;34m(self, other, op)\u001B[0m\n\u001B[0;32m   6110\u001B[0m \u001B[38;5;28;01mdef\u001B[39;00m \u001B[38;5;21m_arith_method\u001B[39m(\u001B[38;5;28mself\u001B[39m, other, op):\n\u001B[0;32m   6111\u001B[0m     \u001B[38;5;28mself\u001B[39m, other \u001B[38;5;241m=\u001B[39m ops\u001B[38;5;241m.\u001B[39malign_method_SERIES(\u001B[38;5;28mself\u001B[39m, other)\n\u001B[1;32m-> 6112\u001B[0m     \u001B[38;5;28;01mreturn\u001B[39;00m \u001B[43mbase\u001B[49m\u001B[38;5;241;43m.\u001B[39;49m\u001B[43mIndexOpsMixin\u001B[49m\u001B[38;5;241;43m.\u001B[39;49m\u001B[43m_arith_method\u001B[49m\u001B[43m(\u001B[49m\u001B[38;5;28;43mself\u001B[39;49m\u001B[43m,\u001B[49m\u001B[43m \u001B[49m\u001B[43mother\u001B[49m\u001B[43m,\u001B[49m\u001B[43m \u001B[49m\u001B[43mop\u001B[49m\u001B[43m)\u001B[49m\n",
      "File \u001B[1;32m~\\PycharmProjects\\preppindata\\venv\\Lib\\site-packages\\pandas\\core\\base.py:1348\u001B[0m, in \u001B[0;36mIndexOpsMixin._arith_method\u001B[1;34m(self, other, op)\u001B[0m\n\u001B[0;32m   1345\u001B[0m rvalues \u001B[38;5;241m=\u001B[39m ensure_wrapped_if_datetimelike(rvalues)\n\u001B[0;32m   1347\u001B[0m \u001B[38;5;28;01mwith\u001B[39;00m np\u001B[38;5;241m.\u001B[39merrstate(\u001B[38;5;28mall\u001B[39m\u001B[38;5;241m=\u001B[39m\u001B[38;5;124m\"\u001B[39m\u001B[38;5;124mignore\u001B[39m\u001B[38;5;124m\"\u001B[39m):\n\u001B[1;32m-> 1348\u001B[0m     result \u001B[38;5;241m=\u001B[39m \u001B[43mops\u001B[49m\u001B[38;5;241;43m.\u001B[39;49m\u001B[43marithmetic_op\u001B[49m\u001B[43m(\u001B[49m\u001B[43mlvalues\u001B[49m\u001B[43m,\u001B[49m\u001B[43m \u001B[49m\u001B[43mrvalues\u001B[49m\u001B[43m,\u001B[49m\u001B[43m \u001B[49m\u001B[43mop\u001B[49m\u001B[43m)\u001B[49m\n\u001B[0;32m   1350\u001B[0m \u001B[38;5;28;01mreturn\u001B[39;00m \u001B[38;5;28mself\u001B[39m\u001B[38;5;241m.\u001B[39m_construct_result(result, name\u001B[38;5;241m=\u001B[39mres_name)\n",
      "File \u001B[1;32m~\\PycharmProjects\\preppindata\\venv\\Lib\\site-packages\\pandas\\core\\ops\\array_ops.py:232\u001B[0m, in \u001B[0;36marithmetic_op\u001B[1;34m(left, right, op)\u001B[0m\n\u001B[0;32m    228\u001B[0m     _bool_arith_check(op, left, right)\n\u001B[0;32m    230\u001B[0m     \u001B[38;5;66;03m# error: Argument 1 to \"_na_arithmetic_op\" has incompatible type\u001B[39;00m\n\u001B[0;32m    231\u001B[0m     \u001B[38;5;66;03m# \"Union[ExtensionArray, ndarray[Any, Any]]\"; expected \"ndarray[Any, Any]\"\u001B[39;00m\n\u001B[1;32m--> 232\u001B[0m     res_values \u001B[38;5;241m=\u001B[39m \u001B[43m_na_arithmetic_op\u001B[49m\u001B[43m(\u001B[49m\u001B[43mleft\u001B[49m\u001B[43m,\u001B[49m\u001B[43m \u001B[49m\u001B[43mright\u001B[49m\u001B[43m,\u001B[49m\u001B[43m \u001B[49m\u001B[43mop\u001B[49m\u001B[43m)\u001B[49m  \u001B[38;5;66;03m# type: ignore[arg-type]\u001B[39;00m\n\u001B[0;32m    234\u001B[0m \u001B[38;5;28;01mreturn\u001B[39;00m res_values\n",
      "File \u001B[1;32m~\\PycharmProjects\\preppindata\\venv\\Lib\\site-packages\\pandas\\core\\ops\\array_ops.py:178\u001B[0m, in \u001B[0;36m_na_arithmetic_op\u001B[1;34m(left, right, op, is_cmp)\u001B[0m\n\u001B[0;32m    172\u001B[0m \u001B[38;5;28;01mexcept\u001B[39;00m \u001B[38;5;167;01mTypeError\u001B[39;00m:\n\u001B[0;32m    173\u001B[0m     \u001B[38;5;28;01mif\u001B[39;00m \u001B[38;5;129;01mnot\u001B[39;00m is_cmp \u001B[38;5;129;01mand\u001B[39;00m (is_object_dtype(left\u001B[38;5;241m.\u001B[39mdtype) \u001B[38;5;129;01mor\u001B[39;00m is_object_dtype(right)):\n\u001B[0;32m    174\u001B[0m         \u001B[38;5;66;03m# For object dtype, fallback to a masked operation (only operating\u001B[39;00m\n\u001B[0;32m    175\u001B[0m         \u001B[38;5;66;03m#  on the non-missing values)\u001B[39;00m\n\u001B[0;32m    176\u001B[0m         \u001B[38;5;66;03m# Don't do this for comparisons, as that will handle complex numbers\u001B[39;00m\n\u001B[0;32m    177\u001B[0m         \u001B[38;5;66;03m#  incorrectly, see GH#32047\u001B[39;00m\n\u001B[1;32m--> 178\u001B[0m         result \u001B[38;5;241m=\u001B[39m \u001B[43m_masked_arith_op\u001B[49m\u001B[43m(\u001B[49m\u001B[43mleft\u001B[49m\u001B[43m,\u001B[49m\u001B[43m \u001B[49m\u001B[43mright\u001B[49m\u001B[43m,\u001B[49m\u001B[43m \u001B[49m\u001B[43mop\u001B[49m\u001B[43m)\u001B[49m\n\u001B[0;32m    179\u001B[0m     \u001B[38;5;28;01melse\u001B[39;00m:\n\u001B[0;32m    180\u001B[0m         \u001B[38;5;28;01mraise\u001B[39;00m\n",
      "File \u001B[1;32m~\\PycharmProjects\\preppindata\\venv\\Lib\\site-packages\\pandas\\core\\ops\\array_ops.py:116\u001B[0m, in \u001B[0;36m_masked_arith_op\u001B[1;34m(x, y, op)\u001B[0m\n\u001B[0;32m    114\u001B[0m     \u001B[38;5;66;03m# See GH#5284, GH#5035, GH#19448 for historical reference\u001B[39;00m\n\u001B[0;32m    115\u001B[0m     \u001B[38;5;28;01mif\u001B[39;00m mask\u001B[38;5;241m.\u001B[39many():\n\u001B[1;32m--> 116\u001B[0m         result[mask] \u001B[38;5;241m=\u001B[39m \u001B[43mop\u001B[49m\u001B[43m(\u001B[49m\u001B[43mxrav\u001B[49m\u001B[43m[\u001B[49m\u001B[43mmask\u001B[49m\u001B[43m]\u001B[49m\u001B[43m,\u001B[49m\u001B[43m \u001B[49m\u001B[43myrav\u001B[49m\u001B[43m[\u001B[49m\u001B[43mmask\u001B[49m\u001B[43m]\u001B[49m\u001B[43m)\u001B[49m\n\u001B[0;32m    118\u001B[0m \u001B[38;5;28;01melse\u001B[39;00m:\n\u001B[0;32m    119\u001B[0m     \u001B[38;5;28;01mif\u001B[39;00m \u001B[38;5;129;01mnot\u001B[39;00m is_scalar(y):\n",
      "\u001B[1;31mTypeError\u001B[0m: can only concatenate str (not \"int\") to str"
     ]
    }
   ],
   "source": [
    "df['IBAN'] = df['Country Code'] + df['Check Digits'] + df['SWIFT code'] + df['Sort Code'] + df['Account Number']\n",
    "df"
   ],
   "metadata": {
    "collapsed": false
   }
  },
  {
   "cell_type": "code",
   "execution_count": 40,
   "outputs": [],
   "source": [
    "df['Account Number'] = df['Account Number'].map(str)"
   ],
   "metadata": {
    "collapsed": false
   }
  },
  {
   "cell_type": "code",
   "execution_count": 41,
   "outputs": [
    {
     "data": {
      "text/plain": "   Transaction ID Account Number Sort Code              Bank SWIFT code  \\\n0            3888       62230725    959882  Data Source Bank       DSBX   \n1            7086       56630552    597744  Data Source Bank       DSBX   \n2            1314       71210735    618579  Data Source Bank       DSBX   \n3            1493       12193988    865442  Data Source Bank       DSBX   \n4            1952       53786334    212754  Data Source Bank       DSBX   \n..            ...            ...       ...               ...        ...   \n95           6054       47199472    968854       Lloyds Bank       LOYD   \n96           5773       82021377    438613       Lloyds Bank       LOYD   \n97           7485       63007765    634617       Lloyds Bank       LOYD   \n98           8813       83475180    635891       Lloyds Bank       LOYD   \n99           2021       72261023    591751       Lloyds Bank       LOYD   \n\n   Country Code Check Digits                    IBAN  \n0            GB           12  GB12DSBX95988262230725  \n1            GB           12  GB12DSBX59774456630552  \n2            GB           12  GB12DSBX61857971210735  \n3            GB           12  GB12DSBX86544212193988  \n4            GB           12  GB12DSBX21275453786334  \n..          ...          ...                     ...  \n95           GB           C1  GBC1LOYD96885447199472  \n96           GB           C1  GBC1LOYD43861382021377  \n97           GB           C1  GBC1LOYD63461763007765  \n98           GB           C1  GBC1LOYD63589183475180  \n99           GB           C1  GBC1LOYD59175172261023  \n\n[100 rows x 8 columns]",
      "text/html": "<div>\n<style scoped>\n    .dataframe tbody tr th:only-of-type {\n        vertical-align: middle;\n    }\n\n    .dataframe tbody tr th {\n        vertical-align: top;\n    }\n\n    .dataframe thead th {\n        text-align: right;\n    }\n</style>\n<table border=\"1\" class=\"dataframe\">\n  <thead>\n    <tr style=\"text-align: right;\">\n      <th></th>\n      <th>Transaction ID</th>\n      <th>Account Number</th>\n      <th>Sort Code</th>\n      <th>Bank</th>\n      <th>SWIFT code</th>\n      <th>Country Code</th>\n      <th>Check Digits</th>\n      <th>IBAN</th>\n    </tr>\n  </thead>\n  <tbody>\n    <tr>\n      <th>0</th>\n      <td>3888</td>\n      <td>62230725</td>\n      <td>959882</td>\n      <td>Data Source Bank</td>\n      <td>DSBX</td>\n      <td>GB</td>\n      <td>12</td>\n      <td>GB12DSBX95988262230725</td>\n    </tr>\n    <tr>\n      <th>1</th>\n      <td>7086</td>\n      <td>56630552</td>\n      <td>597744</td>\n      <td>Data Source Bank</td>\n      <td>DSBX</td>\n      <td>GB</td>\n      <td>12</td>\n      <td>GB12DSBX59774456630552</td>\n    </tr>\n    <tr>\n      <th>2</th>\n      <td>1314</td>\n      <td>71210735</td>\n      <td>618579</td>\n      <td>Data Source Bank</td>\n      <td>DSBX</td>\n      <td>GB</td>\n      <td>12</td>\n      <td>GB12DSBX61857971210735</td>\n    </tr>\n    <tr>\n      <th>3</th>\n      <td>1493</td>\n      <td>12193988</td>\n      <td>865442</td>\n      <td>Data Source Bank</td>\n      <td>DSBX</td>\n      <td>GB</td>\n      <td>12</td>\n      <td>GB12DSBX86544212193988</td>\n    </tr>\n    <tr>\n      <th>4</th>\n      <td>1952</td>\n      <td>53786334</td>\n      <td>212754</td>\n      <td>Data Source Bank</td>\n      <td>DSBX</td>\n      <td>GB</td>\n      <td>12</td>\n      <td>GB12DSBX21275453786334</td>\n    </tr>\n    <tr>\n      <th>...</th>\n      <td>...</td>\n      <td>...</td>\n      <td>...</td>\n      <td>...</td>\n      <td>...</td>\n      <td>...</td>\n      <td>...</td>\n      <td>...</td>\n    </tr>\n    <tr>\n      <th>95</th>\n      <td>6054</td>\n      <td>47199472</td>\n      <td>968854</td>\n      <td>Lloyds Bank</td>\n      <td>LOYD</td>\n      <td>GB</td>\n      <td>C1</td>\n      <td>GBC1LOYD96885447199472</td>\n    </tr>\n    <tr>\n      <th>96</th>\n      <td>5773</td>\n      <td>82021377</td>\n      <td>438613</td>\n      <td>Lloyds Bank</td>\n      <td>LOYD</td>\n      <td>GB</td>\n      <td>C1</td>\n      <td>GBC1LOYD43861382021377</td>\n    </tr>\n    <tr>\n      <th>97</th>\n      <td>7485</td>\n      <td>63007765</td>\n      <td>634617</td>\n      <td>Lloyds Bank</td>\n      <td>LOYD</td>\n      <td>GB</td>\n      <td>C1</td>\n      <td>GBC1LOYD63461763007765</td>\n    </tr>\n    <tr>\n      <th>98</th>\n      <td>8813</td>\n      <td>83475180</td>\n      <td>635891</td>\n      <td>Lloyds Bank</td>\n      <td>LOYD</td>\n      <td>GB</td>\n      <td>C1</td>\n      <td>GBC1LOYD63589183475180</td>\n    </tr>\n    <tr>\n      <th>99</th>\n      <td>2021</td>\n      <td>72261023</td>\n      <td>591751</td>\n      <td>Lloyds Bank</td>\n      <td>LOYD</td>\n      <td>GB</td>\n      <td>C1</td>\n      <td>GBC1LOYD59175172261023</td>\n    </tr>\n  </tbody>\n</table>\n<p>100 rows × 8 columns</p>\n</div>"
     },
     "execution_count": 41,
     "metadata": {},
     "output_type": "execute_result"
    }
   ],
   "source": [
    "df['IBAN'] = df['Country Code'] + df['Check Digits'] + df['SWIFT code'] + df['Sort Code'] + df['Account Number']\n",
    "df"
   ],
   "metadata": {
    "collapsed": false
   }
  },
  {
   "cell_type": "markdown",
   "source": [
    "# Final Output\n",
    "\n",
    "Final stage for the final output was to remove all other columns leaving only the transaction ID's and IBAN numbers"
   ],
   "metadata": {
    "collapsed": false
   }
  },
  {
   "cell_type": "code",
   "execution_count": 42,
   "outputs": [
    {
     "data": {
      "text/plain": "   Transaction ID                    IBAN\n0            3888  GB12DSBX95988262230725\n1            7086  GB12DSBX59774456630552\n2            1314  GB12DSBX61857971210735\n3            1493  GB12DSBX86544212193988\n4            1952  GB12DSBX21275453786334\n..            ...                     ...\n95           6054  GBC1LOYD96885447199472\n96           5773  GBC1LOYD43861382021377\n97           7485  GBC1LOYD63461763007765\n98           8813  GBC1LOYD63589183475180\n99           2021  GBC1LOYD59175172261023\n\n[100 rows x 2 columns]",
      "text/html": "<div>\n<style scoped>\n    .dataframe tbody tr th:only-of-type {\n        vertical-align: middle;\n    }\n\n    .dataframe tbody tr th {\n        vertical-align: top;\n    }\n\n    .dataframe thead th {\n        text-align: right;\n    }\n</style>\n<table border=\"1\" class=\"dataframe\">\n  <thead>\n    <tr style=\"text-align: right;\">\n      <th></th>\n      <th>Transaction ID</th>\n      <th>IBAN</th>\n    </tr>\n  </thead>\n  <tbody>\n    <tr>\n      <th>0</th>\n      <td>3888</td>\n      <td>GB12DSBX95988262230725</td>\n    </tr>\n    <tr>\n      <th>1</th>\n      <td>7086</td>\n      <td>GB12DSBX59774456630552</td>\n    </tr>\n    <tr>\n      <th>2</th>\n      <td>1314</td>\n      <td>GB12DSBX61857971210735</td>\n    </tr>\n    <tr>\n      <th>3</th>\n      <td>1493</td>\n      <td>GB12DSBX86544212193988</td>\n    </tr>\n    <tr>\n      <th>4</th>\n      <td>1952</td>\n      <td>GB12DSBX21275453786334</td>\n    </tr>\n    <tr>\n      <th>...</th>\n      <td>...</td>\n      <td>...</td>\n    </tr>\n    <tr>\n      <th>95</th>\n      <td>6054</td>\n      <td>GBC1LOYD96885447199472</td>\n    </tr>\n    <tr>\n      <th>96</th>\n      <td>5773</td>\n      <td>GBC1LOYD43861382021377</td>\n    </tr>\n    <tr>\n      <th>97</th>\n      <td>7485</td>\n      <td>GBC1LOYD63461763007765</td>\n    </tr>\n    <tr>\n      <th>98</th>\n      <td>8813</td>\n      <td>GBC1LOYD63589183475180</td>\n    </tr>\n    <tr>\n      <th>99</th>\n      <td>2021</td>\n      <td>GBC1LOYD59175172261023</td>\n    </tr>\n  </tbody>\n</table>\n<p>100 rows × 2 columns</p>\n</div>"
     },
     "execution_count": 42,
     "metadata": {},
     "output_type": "execute_result"
    }
   ],
   "source": [
    "df = df.drop(columns=['Country Code', 'Check Digits', 'SWIFT code', 'Sort Code', 'Account Number', 'Bank'])\n",
    "df"
   ],
   "metadata": {
    "collapsed": false
   }
  },
  {
   "cell_type": "code",
   "execution_count": null,
   "outputs": [],
   "source": [],
   "metadata": {
    "collapsed": false
   }
  }
 ],
 "metadata": {
  "kernelspec": {
   "display_name": "Python 3",
   "language": "python",
   "name": "python3"
  },
  "language_info": {
   "codemirror_mode": {
    "name": "ipython",
    "version": 2
   },
   "file_extension": ".py",
   "mimetype": "text/x-python",
   "name": "python",
   "nbconvert_exporter": "python",
   "pygments_lexer": "ipython2",
   "version": "2.7.6"
  }
 },
 "nbformat": 4,
 "nbformat_minor": 0
}
